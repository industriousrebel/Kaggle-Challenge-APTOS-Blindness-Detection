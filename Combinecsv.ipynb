{
 "cells": [
  {
   "cell_type": "code",
   "execution_count": 42,
   "metadata": {},
   "outputs": [],
   "source": [
    "import pandas as pd\n"
   ]
  },
  {
   "cell_type": "markdown",
   "metadata": {},
   "source": [
    "$x^2$"
   ]
  },
  {
   "cell_type": "code",
   "execution_count": 43,
   "metadata": {},
   "outputs": [],
   "source": [
    "traindata2015 = pd.read_csv('data/trainLabels15.csv')\n",
    "testdata2015 = pd.read_csv('data/testLabels15.csv')\n",
    "traindata2019 = pd.read_csv('data/trainLabels19.csv')\n",
    "testdata2019 = pd.read_csv('data/testLabels15.csv')\n",
    "mesidor_data = pd.read_csv('data/messidor_data.csv')"
   ]
  },
  {
   "cell_type": "code",
   "execution_count": 44,
   "metadata": {},
   "outputs": [
    {
     "data": {
      "text/html": [
       "<div>\n",
       "<style scoped>\n",
       "    .dataframe tbody tr th:only-of-type {\n",
       "        vertical-align: middle;\n",
       "    }\n",
       "\n",
       "    .dataframe tbody tr th {\n",
       "        vertical-align: top;\n",
       "    }\n",
       "\n",
       "    .dataframe thead th {\n",
       "        text-align: right;\n",
       "    }\n",
       "</style>\n",
       "<table border=\"1\" class=\"dataframe\">\n",
       "  <thead>\n",
       "    <tr style=\"text-align: right;\">\n",
       "      <th></th>\n",
       "      <th>image_id</th>\n",
       "      <th>adjudicated_dr_grade</th>\n",
       "      <th>adjudicated_dme</th>\n",
       "      <th>adjudicated_gradable</th>\n",
       "    </tr>\n",
       "  </thead>\n",
       "  <tbody>\n",
       "    <tr>\n",
       "      <td>0</td>\n",
       "      <td>20051020_43808_0100_PP.png</td>\n",
       "      <td>0.0</td>\n",
       "      <td>0.0</td>\n",
       "      <td>1</td>\n",
       "    </tr>\n",
       "    <tr>\n",
       "      <td>1</td>\n",
       "      <td>20051020_43832_0100_PP.png</td>\n",
       "      <td>1.0</td>\n",
       "      <td>0.0</td>\n",
       "      <td>1</td>\n",
       "    </tr>\n",
       "    <tr>\n",
       "      <td>2</td>\n",
       "      <td>20051020_43882_0100_PP.png</td>\n",
       "      <td>1.0</td>\n",
       "      <td>0.0</td>\n",
       "      <td>1</td>\n",
       "    </tr>\n",
       "    <tr>\n",
       "      <td>3</td>\n",
       "      <td>20051020_43906_0100_PP.png</td>\n",
       "      <td>2.0</td>\n",
       "      <td>1.0</td>\n",
       "      <td>1</td>\n",
       "    </tr>\n",
       "    <tr>\n",
       "      <td>4</td>\n",
       "      <td>20051020_44261_0100_PP.png</td>\n",
       "      <td>0.0</td>\n",
       "      <td>0.0</td>\n",
       "      <td>1</td>\n",
       "    </tr>\n",
       "  </tbody>\n",
       "</table>\n",
       "</div>"
      ],
      "text/plain": [
       "                     image_id  adjudicated_dr_grade  adjudicated_dme  \\\n",
       "0  20051020_43808_0100_PP.png                   0.0              0.0   \n",
       "1  20051020_43832_0100_PP.png                   1.0              0.0   \n",
       "2  20051020_43882_0100_PP.png                   1.0              0.0   \n",
       "3  20051020_43906_0100_PP.png                   2.0              1.0   \n",
       "4  20051020_44261_0100_PP.png                   0.0              0.0   \n",
       "\n",
       "   adjudicated_gradable  \n",
       "0                     1  \n",
       "1                     1  \n",
       "2                     1  \n",
       "3                     1  \n",
       "4                     1  "
      ]
     },
     "execution_count": 44,
     "metadata": {},
     "output_type": "execute_result"
    }
   ],
   "source": [
    "mesidor_data.head()"
   ]
  },
  {
   "cell_type": "code",
   "execution_count": 45,
   "metadata": {},
   "outputs": [],
   "source": [
    "path_to_messidor = 'data/messidor-2'\n",
    "path_to_test_19 = 'data/resized test 19'\n",
    "path_to_test_15 = 'data/resized test 15'\n",
    "path_to_train_19 = 'data/resized train 19'\n",
    "path_to_train_15 = 'data/resized train 15'"
   ]
  },
  {
   "cell_type": "code",
   "execution_count": 46,
   "metadata": {},
   "outputs": [
    {
     "data": {
      "text/plain": [
       "Index(['image', 'level'], dtype='object')"
      ]
     },
     "execution_count": 46,
     "metadata": {},
     "output_type": "execute_result"
    }
   ],
   "source": [
    "traindata2015.columns"
   ]
  },
  {
   "cell_type": "code",
   "execution_count": 47,
   "metadata": {},
   "outputs": [],
   "source": [
    "Training_DataFrame  = pd.DataFrame({\n",
    "    'image_id': [],\n",
    "    'diagnosis': [],\n",
    "    'dataSet': []\n",
    "})"
   ]
  },
  {
   "cell_type": "code",
   "execution_count": 48,
   "metadata": {},
   "outputs": [],
   "source": [
    "mesidor_data = mesidor_data.drop(columns=['adjudicated_dme', 'adjudicated_gradable'])\n",
    "traindata2015 = traindata2015.rename(columns ={\"image\": \"image_id\", \"level\": \"diagnosis\"})\n",
    "testdata2015 = testdata2015.rename(columns ={\"image\": \"image_id\", \"level\": \"diagnosis\"})\n",
    "testdata2019 = testdata2019.rename(columns ={\"id_code\": \"image_id\"})\n",
    "traindata2019 = traindata2019.rename(columns ={\"id_code\": \"image_id\"})\n",
    "mesidor_data = mesidor_data.rename(columns ={\"image_id\": \"image_id\", \"adjudicated_dr_grade\": \"diagnosis\"})\n",
    "\n",
    "\n",
    "\n",
    "\n",
    "\n",
    "\n"
   ]
  },
  {
   "cell_type": "code",
   "execution_count": 49,
   "metadata": {},
   "outputs": [],
   "source": [
    "traindata2019['dataSet'] = path_to_train_19\n",
    "mesidor_data['dataSet'] = path_to_messidor\n",
    "traindata2015['dataSet'] = path_to_train_15\n",
    "testdata2015['dataSet'] = path_to_test_15\n",
    "testdata2019['dataSet'] = path_to_test_19\n",
    "\n"
   ]
  },
  {
   "cell_type": "code",
   "execution_count": 50,
   "metadata": {},
   "outputs": [
    {
     "data": {
      "text/html": [
       "<div>\n",
       "<style scoped>\n",
       "    .dataframe tbody tr th:only-of-type {\n",
       "        vertical-align: middle;\n",
       "    }\n",
       "\n",
       "    .dataframe tbody tr th {\n",
       "        vertical-align: top;\n",
       "    }\n",
       "\n",
       "    .dataframe thead th {\n",
       "        text-align: right;\n",
       "    }\n",
       "</style>\n",
       "<table border=\"1\" class=\"dataframe\">\n",
       "  <thead>\n",
       "    <tr style=\"text-align: right;\">\n",
       "      <th></th>\n",
       "      <th>image_id</th>\n",
       "      <th>diagnosis</th>\n",
       "      <th>dataSet</th>\n",
       "    </tr>\n",
       "  </thead>\n",
       "  <tbody>\n",
       "    <tr>\n",
       "      <td>3657</td>\n",
       "      <td>ffa47f6a7bf4</td>\n",
       "      <td>2</td>\n",
       "      <td>data/resized train 19</td>\n",
       "    </tr>\n",
       "    <tr>\n",
       "      <td>3658</td>\n",
       "      <td>ffc04fed30e6</td>\n",
       "      <td>0</td>\n",
       "      <td>data/resized train 19</td>\n",
       "    </tr>\n",
       "    <tr>\n",
       "      <td>3659</td>\n",
       "      <td>ffcf7b45f213</td>\n",
       "      <td>2</td>\n",
       "      <td>data/resized train 19</td>\n",
       "    </tr>\n",
       "    <tr>\n",
       "      <td>3660</td>\n",
       "      <td>ffd97f8cd5aa</td>\n",
       "      <td>0</td>\n",
       "      <td>data/resized train 19</td>\n",
       "    </tr>\n",
       "    <tr>\n",
       "      <td>3661</td>\n",
       "      <td>ffec9a18a3ce</td>\n",
       "      <td>2</td>\n",
       "      <td>data/resized train 19</td>\n",
       "    </tr>\n",
       "  </tbody>\n",
       "</table>\n",
       "</div>"
      ],
      "text/plain": [
       "          image_id  diagnosis                dataSet\n",
       "3657  ffa47f6a7bf4          2  data/resized train 19\n",
       "3658  ffc04fed30e6          0  data/resized train 19\n",
       "3659  ffcf7b45f213          2  data/resized train 19\n",
       "3660  ffd97f8cd5aa          0  data/resized train 19\n",
       "3661  ffec9a18a3ce          2  data/resized train 19"
      ]
     },
     "execution_count": 50,
     "metadata": {},
     "output_type": "execute_result"
    }
   ],
   "source": [
    "traindata2019.tail()"
   ]
  },
  {
   "cell_type": "code",
   "execution_count": 51,
   "metadata": {},
   "outputs": [],
   "source": [
    "Training_DataFrame = Training_DataFrame.append(traindata2019, sort=False,ignore_index=True)\n",
    "Training_DataFrame = Training_DataFrame.append(traindata2015, sort=False,ignore_index=True)\n",
    "Training_DataFrame = Training_DataFrame.append(mesidor_data, sort=False,ignore_index=True)\n",
    "Training_DataFrame = Training_DataFrame.append(testdata2015, sort=False,ignore_index=True)"
   ]
  },
  {
   "cell_type": "code",
   "execution_count": 52,
   "metadata": {},
   "outputs": [],
   "source": [
    "Index_of_null_vals = Training_DataFrame[Training_DataFrame['diagnosis'].isnull()].index"
   ]
  },
  {
   "cell_type": "code",
   "execution_count": 53,
   "metadata": {},
   "outputs": [
    {
     "data": {
      "text/html": [
       "<div>\n",
       "<style scoped>\n",
       "    .dataframe tbody tr th:only-of-type {\n",
       "        vertical-align: middle;\n",
       "    }\n",
       "\n",
       "    .dataframe tbody tr th {\n",
       "        vertical-align: top;\n",
       "    }\n",
       "\n",
       "    .dataframe thead th {\n",
       "        text-align: right;\n",
       "    }\n",
       "</style>\n",
       "<table border=\"1\" class=\"dataframe\">\n",
       "  <thead>\n",
       "    <tr style=\"text-align: right;\">\n",
       "      <th></th>\n",
       "      <th>dataSet</th>\n",
       "      <th>diagnosis</th>\n",
       "      <th>image_id</th>\n",
       "      <th>Usage</th>\n",
       "    </tr>\n",
       "  </thead>\n",
       "  <tbody>\n",
       "    <tr>\n",
       "      <td>0</td>\n",
       "      <td>data/resized train 19</td>\n",
       "      <td>2.0</td>\n",
       "      <td>000c1434d8d7</td>\n",
       "      <td>NaN</td>\n",
       "    </tr>\n",
       "    <tr>\n",
       "      <td>1</td>\n",
       "      <td>data/resized train 19</td>\n",
       "      <td>4.0</td>\n",
       "      <td>001639a390f0</td>\n",
       "      <td>NaN</td>\n",
       "    </tr>\n",
       "    <tr>\n",
       "      <td>2</td>\n",
       "      <td>data/resized train 19</td>\n",
       "      <td>1.0</td>\n",
       "      <td>0024cdab0c1e</td>\n",
       "      <td>NaN</td>\n",
       "    </tr>\n",
       "    <tr>\n",
       "      <td>3</td>\n",
       "      <td>data/resized train 19</td>\n",
       "      <td>0.0</td>\n",
       "      <td>002c21358ce6</td>\n",
       "      <td>NaN</td>\n",
       "    </tr>\n",
       "    <tr>\n",
       "      <td>4</td>\n",
       "      <td>data/resized train 19</td>\n",
       "      <td>0.0</td>\n",
       "      <td>005b95c28852</td>\n",
       "      <td>NaN</td>\n",
       "    </tr>\n",
       "    <tr>\n",
       "      <td>...</td>\n",
       "      <td>...</td>\n",
       "      <td>...</td>\n",
       "      <td>...</td>\n",
       "      <td>...</td>\n",
       "    </tr>\n",
       "    <tr>\n",
       "      <td>94107</td>\n",
       "      <td>data/resized test 15</td>\n",
       "      <td>0.0</td>\n",
       "      <td>44346_right</td>\n",
       "      <td>Private</td>\n",
       "    </tr>\n",
       "    <tr>\n",
       "      <td>94108</td>\n",
       "      <td>data/resized test 15</td>\n",
       "      <td>0.0</td>\n",
       "      <td>44350_left</td>\n",
       "      <td>Private</td>\n",
       "    </tr>\n",
       "    <tr>\n",
       "      <td>94109</td>\n",
       "      <td>data/resized test 15</td>\n",
       "      <td>0.0</td>\n",
       "      <td>44350_right</td>\n",
       "      <td>Private</td>\n",
       "    </tr>\n",
       "    <tr>\n",
       "      <td>94110</td>\n",
       "      <td>data/resized test 15</td>\n",
       "      <td>0.0</td>\n",
       "      <td>44351_left</td>\n",
       "      <td>Public</td>\n",
       "    </tr>\n",
       "    <tr>\n",
       "      <td>94111</td>\n",
       "      <td>data/resized test 15</td>\n",
       "      <td>0.0</td>\n",
       "      <td>44351_right</td>\n",
       "      <td>Public</td>\n",
       "    </tr>\n",
       "  </tbody>\n",
       "</table>\n",
       "<p>94108 rows × 4 columns</p>\n",
       "</div>"
      ],
      "text/plain": [
       "                     dataSet  diagnosis      image_id    Usage\n",
       "0      data/resized train 19        2.0  000c1434d8d7      NaN\n",
       "1      data/resized train 19        4.0  001639a390f0      NaN\n",
       "2      data/resized train 19        1.0  0024cdab0c1e      NaN\n",
       "3      data/resized train 19        0.0  002c21358ce6      NaN\n",
       "4      data/resized train 19        0.0  005b95c28852      NaN\n",
       "...                      ...        ...           ...      ...\n",
       "94107   data/resized test 15        0.0   44346_right  Private\n",
       "94108   data/resized test 15        0.0    44350_left  Private\n",
       "94109   data/resized test 15        0.0   44350_right  Private\n",
       "94110   data/resized test 15        0.0    44351_left   Public\n",
       "94111   data/resized test 15        0.0   44351_right   Public\n",
       "\n",
       "[94108 rows x 4 columns]"
      ]
     },
     "execution_count": 53,
     "metadata": {},
     "output_type": "execute_result"
    }
   ],
   "source": [
    "Training_DataFrame.drop(Index_of_null_vals)"
   ]
  },
  {
   "cell_type": "code",
   "execution_count": 56,
   "metadata": {},
   "outputs": [
    {
     "data": {
      "text/plain": [
       "<BarContainer object of 5 artists>"
      ]
     },
     "execution_count": 56,
     "metadata": {},
     "output_type": "execute_result"
    },
    {
     "data": {
      "image/png": "[encoded data removed]",
      "text/plain": [
       "<Figure size 432x288 with 1 Axes>"
      ]
     },
     "metadata": {
      "needs_background": "light"
     },
     "output_type": "display_data"
    }
   ],
   "source": [
    "import matplotlib.pyplot as plt;\n",
    "plt.bar([0,1,2,3,4],  list(Training_DataFrame['diagnosis'].value_counts()),align='center', alpha=0.5)\n"
   ]
  },
  {
   "cell_type": "code",
   "execution_count": 57,
   "metadata": {},
   "outputs": [],
   "source": [
    "d0,d1,d2,d3,d4 = Training_DataFrame['diagnosis'].value_counts()"
   ]
  },
  {
   "cell_type": "code",
   "execution_count": 58,
   "metadata": {},
   "outputs": [
    {
     "data": {
      "text/plain": [
       "14499"
      ]
     },
     "execution_count": 58,
     "metadata": {},
     "output_type": "execute_result"
    }
   ],
   "source": [
    "d1"
   ]
  },
  {
   "cell_type": "code",
   "execution_count": 59,
   "metadata": {},
   "outputs": [],
   "source": [
    "_d0 = Training_DataFrame[Training_DataFrame['diagnosis'] == 0].sample(d1)\n",
    "_d1 = Training_DataFrame[Training_DataFrame['diagnosis'] == 1].sample(d1,replace=True)\n",
    "_d2 = Training_DataFrame[Training_DataFrame['diagnosis'] == 2].sample(d1,replace=True)\n",
    "_d3 = Training_DataFrame[Training_DataFrame['diagnosis'] == 3].sample(d1,replace=True)\n",
    "_d4 = Training_DataFrame[Training_DataFrame['diagnosis'] == 4].sample(d1,replace=True)"
   ]
  },
  {
   "cell_type": "code",
   "execution_count": 61,
   "metadata": {},
   "outputs": [
    {
     "data": {
      "text/plain": [
       "[14499, 14499, 14499, 14499, 14499]"
      ]
     },
     "execution_count": 61,
     "metadata": {},
     "output_type": "execute_result"
    }
   ],
   "source": [
    "list(Balance_Df['diagnosis'].value_counts())"
   ]
  },
  {
   "cell_type": "code",
   "execution_count": 62,
   "metadata": {},
   "outputs": [],
   "source": [
    "Balance_Df = _d0\n",
    "Balance_Df = Balance_Df.append(_d1)\n",
    "Balance_Df = Balance_Df.append(_d2)\n",
    "Balance_Df = Balance_Df.append(_d3)\n",
    "Balance_Df = Balance_Df.append(_d4)"
   ]
  },
  {
   "cell_type": "code",
   "execution_count": 63,
   "metadata": {},
   "outputs": [],
   "source": [
    "from sklearn.utils import shuffle\n",
    "\n",
    "Balance_Df = shuffle(Balance_Df)"
   ]
  },
  {
   "cell_type": "code",
   "execution_count": 64,
   "metadata": {},
   "outputs": [
    {
     "data": {
      "text/plain": [
       "<BarContainer object of 5 artists>"
      ]
     },
     "execution_count": 64,
     "metadata": {},
     "output_type": "execute_result"
    },
    {
     "data": {
      "image/png": "[encoded data removed]",
      "text/plain": [
       "<Figure size 432x288 with 1 Axes>"
      ]
     },
     "metadata": {
      "needs_background": "light"
     },
     "output_type": "display_data"
    }
   ],
   "source": [
    "import matplotlib.pyplot as plt;\n",
    "plt.bar([0,1,2,3,4], list(Balance_Df['diagnosis'].value_counts()),align='center')"
   ]
  },
  {
   "cell_type": "code",
   "execution_count": 67,
   "metadata": {},
   "outputs": [
    {
     "data": {
      "text/plain": [
       "0.0    68165\n",
       "2.0    14499\n",
       "1.0     6845\n",
       "3.0     2355\n",
       "4.0     2244\n",
       "Name: diagnosis, dtype: int64"
      ]
     },
     "execution_count": 67,
     "metadata": {},
     "output_type": "execute_result"
    }
   ],
   "source": [
    "Training_DataFrame['diagnosis'].value_counts()"
   ]
  },
  {
   "cell_type": "code",
   "execution_count": 68,
   "metadata": {},
   "outputs": [
    {
     "data": {
      "text/plain": [
       "4.0    14499\n",
       "3.0    14499\n",
       "2.0    14499\n",
       "0.0    14499\n",
       "1.0    14499\n",
       "Name: diagnosis, dtype: int64"
      ]
     },
     "execution_count": 68,
     "metadata": {},
     "output_type": "execute_result"
    }
   ],
   "source": [
    "Balance_Df['diagnosis'].value_counts()"
   ]
  },
  {
   "cell_type": "code",
   "execution_count": 69,
   "metadata": {},
   "outputs": [
    {
     "data": {
      "text/html": [
       "<div>\n",
       "<style scoped>\n",
       "    .dataframe tbody tr th:only-of-type {\n",
       "        vertical-align: middle;\n",
       "    }\n",
       "\n",
       "    .dataframe tbody tr th {\n",
       "        vertical-align: top;\n",
       "    }\n",
       "\n",
       "    .dataframe thead th {\n",
       "        text-align: right;\n",
       "    }\n",
       "</style>\n",
       "<table border=\"1\" class=\"dataframe\">\n",
       "  <thead>\n",
       "    <tr style=\"text-align: right;\">\n",
       "      <th></th>\n",
       "      <th>dataSet</th>\n",
       "      <th>diagnosis</th>\n",
       "      <th>image_id</th>\n",
       "      <th>Usage</th>\n",
       "    </tr>\n",
       "  </thead>\n",
       "  <tbody>\n",
       "    <tr>\n",
       "      <td>44799</td>\n",
       "      <td>data/resized test 15</td>\n",
       "      <td>1.0</td>\n",
       "      <td>3568_right</td>\n",
       "      <td>Private</td>\n",
       "    </tr>\n",
       "    <tr>\n",
       "      <td>90387</td>\n",
       "      <td>data/resized test 15</td>\n",
       "      <td>3.0</td>\n",
       "      <td>41266_right</td>\n",
       "      <td>Private</td>\n",
       "    </tr>\n",
       "    <tr>\n",
       "      <td>13376</td>\n",
       "      <td>data/resized train 15</td>\n",
       "      <td>1.0</td>\n",
       "      <td>12233_left</td>\n",
       "      <td>NaN</td>\n",
       "    </tr>\n",
       "    <tr>\n",
       "      <td>5631</td>\n",
       "      <td>data/resized train 15</td>\n",
       "      <td>0.0</td>\n",
       "      <td>2450_right</td>\n",
       "      <td>NaN</td>\n",
       "    </tr>\n",
       "    <tr>\n",
       "      <td>25172</td>\n",
       "      <td>data/resized train 15</td>\n",
       "      <td>2.0</td>\n",
       "      <td>27098_left</td>\n",
       "      <td>NaN</td>\n",
       "    </tr>\n",
       "  </tbody>\n",
       "</table>\n",
       "</div>"
      ],
      "text/plain": [
       "                     dataSet  diagnosis     image_id    Usage\n",
       "44799   data/resized test 15        1.0   3568_right  Private\n",
       "90387   data/resized test 15        3.0  41266_right  Private\n",
       "13376  data/resized train 15        1.0   12233_left      NaN\n",
       "5631   data/resized train 15        0.0   2450_right      NaN\n",
       "25172  data/resized train 15        2.0   27098_left      NaN"
      ]
     },
     "execution_count": 69,
     "metadata": {},
     "output_type": "execute_result"
    }
   ],
   "source": [
    "Balance_Df.head()"
   ]
  },
  {
   "cell_type": "code",
   "execution_count": 38,
   "metadata": {},
   "outputs": [
    {
     "data": {
      "text/plain": [
       "0        000c1434d8d7\n",
       "1        001639a390f0\n",
       "2        0024cdab0c1e\n",
       "3        002c21358ce6\n",
       "4        005b95c28852\n",
       "             ...     \n",
       "94107     44346_right\n",
       "94108      44350_left\n",
       "94109     44350_right\n",
       "94110      44351_left\n",
       "94111     44351_right\n",
       "Name: image_id, Length: 94112, dtype: object"
      ]
     },
     "execution_count": 38,
     "metadata": {},
     "output_type": "execute_result"
    }
   ],
   "source": [
    "Training_DataFrame['image_id']"
   ]
  },
  {
   "cell_type": "code",
   "execution_count": null,
   "metadata": {},
   "outputs": [],
   "source": []
  },
  {
   "cell_type": "code",
   "execution_count": 72,
   "metadata": {},
   "outputs": [],
   "source": [
    "Balance_Df[\"Path_to_image\"] = Balance_Df[\"dataSet\"]+ \"/\" + Balance_Df['image_id'] + \".png\""
   ]
  },
  {
   "cell_type": "code",
   "execution_count": 75,
   "metadata": {},
   "outputs": [
    {
     "data": {
      "text/html": [
       "<div>\n",
       "<style scoped>\n",
       "    .dataframe tbody tr th:only-of-type {\n",
       "        vertical-align: middle;\n",
       "    }\n",
       "\n",
       "    .dataframe tbody tr th {\n",
       "        vertical-align: top;\n",
       "    }\n",
       "\n",
       "    .dataframe thead th {\n",
       "        text-align: right;\n",
       "    }\n",
       "</style>\n",
       "<table border=\"1\" class=\"dataframe\">\n",
       "  <thead>\n",
       "    <tr style=\"text-align: right;\">\n",
       "      <th></th>\n",
       "      <th>diagnosis</th>\n",
       "      <th>image_id</th>\n",
       "      <th>Usage</th>\n",
       "      <th>Path_to_image</th>\n",
       "    </tr>\n",
       "  </thead>\n",
       "  <tbody>\n",
       "    <tr>\n",
       "      <td>44799</td>\n",
       "      <td>1.0</td>\n",
       "      <td>3568_right</td>\n",
       "      <td>Private</td>\n",
       "      <td>data/resized test 15/3568_right.png</td>\n",
       "    </tr>\n",
       "    <tr>\n",
       "      <td>90387</td>\n",
       "      <td>3.0</td>\n",
       "      <td>41266_right</td>\n",
       "      <td>Private</td>\n",
       "      <td>data/resized test 15/41266_right.png</td>\n",
       "    </tr>\n",
       "    <tr>\n",
       "      <td>13376</td>\n",
       "      <td>1.0</td>\n",
       "      <td>12233_left</td>\n",
       "      <td>NaN</td>\n",
       "      <td>data/resized train 15/12233_left.png</td>\n",
       "    </tr>\n",
       "    <tr>\n",
       "      <td>5631</td>\n",
       "      <td>0.0</td>\n",
       "      <td>2450_right</td>\n",
       "      <td>NaN</td>\n",
       "      <td>data/resized train 15/2450_right.png</td>\n",
       "    </tr>\n",
       "    <tr>\n",
       "      <td>25172</td>\n",
       "      <td>2.0</td>\n",
       "      <td>27098_left</td>\n",
       "      <td>NaN</td>\n",
       "      <td>data/resized train 15/27098_left.png</td>\n",
       "    </tr>\n",
       "    <tr>\n",
       "      <td>...</td>\n",
       "      <td>...</td>\n",
       "      <td>...</td>\n",
       "      <td>...</td>\n",
       "      <td>...</td>\n",
       "    </tr>\n",
       "    <tr>\n",
       "      <td>38245</td>\n",
       "      <td>0.0</td>\n",
       "      <td>43708_right</td>\n",
       "      <td>NaN</td>\n",
       "      <td>data/resized train 15/43708_right.png</td>\n",
       "    </tr>\n",
       "    <tr>\n",
       "      <td>66074</td>\n",
       "      <td>2.0</td>\n",
       "      <td>21240_left</td>\n",
       "      <td>Private</td>\n",
       "      <td>data/resized test 15/21240_left.png</td>\n",
       "    </tr>\n",
       "    <tr>\n",
       "      <td>25014</td>\n",
       "      <td>2.0</td>\n",
       "      <td>26905_left</td>\n",
       "      <td>NaN</td>\n",
       "      <td>data/resized train 15/26905_left.png</td>\n",
       "    </tr>\n",
       "    <tr>\n",
       "      <td>83686</td>\n",
       "      <td>3.0</td>\n",
       "      <td>35653_left</td>\n",
       "      <td>Private</td>\n",
       "      <td>data/resized test 15/35653_left.png</td>\n",
       "    </tr>\n",
       "    <tr>\n",
       "      <td>71043</td>\n",
       "      <td>1.0</td>\n",
       "      <td>25276_right</td>\n",
       "      <td>Private</td>\n",
       "      <td>data/resized test 15/25276_right.png</td>\n",
       "    </tr>\n",
       "  </tbody>\n",
       "</table>\n",
       "<p>72495 rows × 4 columns</p>\n",
       "</div>"
      ],
      "text/plain": [
       "       diagnosis     image_id    Usage                          Path_to_image\n",
       "44799        1.0   3568_right  Private    data/resized test 15/3568_right.png\n",
       "90387        3.0  41266_right  Private   data/resized test 15/41266_right.png\n",
       "13376        1.0   12233_left      NaN   data/resized train 15/12233_left.png\n",
       "5631         0.0   2450_right      NaN   data/resized train 15/2450_right.png\n",
       "25172        2.0   27098_left      NaN   data/resized train 15/27098_left.png\n",
       "...          ...          ...      ...                                    ...\n",
       "38245        0.0  43708_right      NaN  data/resized train 15/43708_right.png\n",
       "66074        2.0   21240_left  Private    data/resized test 15/21240_left.png\n",
       "25014        2.0   26905_left      NaN   data/resized train 15/26905_left.png\n",
       "83686        3.0   35653_left  Private    data/resized test 15/35653_left.png\n",
       "71043        1.0  25276_right  Private   data/resized test 15/25276_right.png\n",
       "\n",
       "[72495 rows x 4 columns]"
      ]
     },
     "execution_count": 75,
     "metadata": {},
     "output_type": "execute_result"
    }
   ],
   "source": [
    "Balance_Df.head()\n",
    "Balance_Df.drop('Usage',axis=1)\n",
    "Balance_Df.drop('dataSet',axis=1)"
   ]
  },
  {
   "cell_type": "code",
   "execution_count": 77,
   "metadata": {},
   "outputs": [],
   "source": [
    "Balance_Df.to_csv(\"allCells.csv\")"
   ]
  },
  {
   "cell_type": "code",
   "execution_count": null,
   "metadata": {},
   "outputs": [],
   "source": []
  },
  {
   "cell_type": "code",
   "execution_count": null,
   "metadata": {},
   "outputs": [],
   "source": []
  },
  {
   "cell_type": "code",
   "execution_count": null,
   "metadata": {},
   "outputs": [],
   "source": []
  }
 ],
 "metadata": {
  "kernelspec": {
   "display_name": "Python 3",
   "language": "python",
   "name": "python3"
  },
  "language_info": {
   "codemirror_mode": {
    "name": "ipython",
    "version": 3
   },
   "file_extension": ".py",
   "mimetype": "text/x-python",
   "name": "python",
   "nbconvert_exporter": "python",
   "pygments_lexer": "ipython3",
   "version": "3.5.3"
  }
 },
 "nbformat": 4,
 "nbformat_minor": 4
}
